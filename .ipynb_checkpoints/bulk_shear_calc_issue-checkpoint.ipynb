{
 "cells": [
  {
   "cell_type": "markdown",
   "metadata": {},
   "source": [
    "## Calculate Bulk Wind Shear for JSON Sounding Files"
   ]
  },
  {
   "cell_type": "code",
   "execution_count": 2,
   "metadata": {},
   "outputs": [],
   "source": [
    "import metpy.calc as mpcalc\n",
    "from metpy.units import units\n",
    "\n",
    "import pandas as pd\n",
    "import numpy as np\n",
    "\n",
    "from metpy.calc.tools import get_layer, _get_bound_pressure_height\n",
    "from metpy.calc.tools import _less_or_close, _greater_or_close, log_interpolate_1d"
   ]
  },
  {
   "cell_type": "code",
   "execution_count": 3,
   "metadata": {},
   "outputs": [
    {
     "data": {
      "text/html": [
       "<div>\n",
       "<style scoped>\n",
       "    .dataframe tbody tr th:only-of-type {\n",
       "        vertical-align: middle;\n",
       "    }\n",
       "\n",
       "    .dataframe tbody tr th {\n",
       "        vertical-align: top;\n",
       "    }\n",
       "\n",
       "    .dataframe thead th {\n",
       "        text-align: right;\n",
       "    }\n",
       "</style>\n",
       "<table border=\"1\" class=\"dataframe\">\n",
       "  <thead>\n",
       "    <tr style=\"text-align: right;\">\n",
       "      <th></th>\n",
       "      <th>pres</th>\n",
       "      <th>hght</th>\n",
       "      <th>tmpc</th>\n",
       "      <th>dwpt</th>\n",
       "      <th>wdir</th>\n",
       "      <th>wspd</th>\n",
       "    </tr>\n",
       "  </thead>\n",
       "  <tbody>\n",
       "    <tr>\n",
       "      <th>0</th>\n",
       "      <td>[[995, 984, 972, 939.7, 925, 911, 908.4, 877.6...</td>\n",
       "      <td>[[46, 93, 194, 305, 610, 752, 888, 914, 1219, ...</td>\n",
       "      <td>[[36, 35, 34, 31.1, 29.8, 28.6, 28.4, 26.1, 24...</td>\n",
       "      <td>[[23, 25, 24.4, 22.6, 21.8, 21.6, 21.4, 19.1, ...</td>\n",
       "      <td>[[210, 210, 210, 210, 215, 223, 225, 270, 280,...</td>\n",
       "      <td>[[7, 9, 12, 12, 10, 8, 8, 9, 12, 15, 18, 21, 2...</td>\n",
       "    </tr>\n",
       "  </tbody>\n",
       "</table>\n",
       "</div>"
      ],
      "text/plain": [
       "                                                pres  \\\n",
       "0  [[995, 984, 972, 939.7, 925, 911, 908.4, 877.6...   \n",
       "\n",
       "                                                hght  \\\n",
       "0  [[46, 93, 194, 305, 610, 752, 888, 914, 1219, ...   \n",
       "\n",
       "                                                tmpc  \\\n",
       "0  [[36, 35, 34, 31.1, 29.8, 28.6, 28.4, 26.1, 24...   \n",
       "\n",
       "                                                dwpt  \\\n",
       "0  [[23, 25, 24.4, 22.6, 21.8, 21.6, 21.4, 19.1, ...   \n",
       "\n",
       "                                                wdir  \\\n",
       "0  [[210, 210, 210, 210, 215, 223, 225, 270, 280,...   \n",
       "\n",
       "                                                wspd  \n",
       "0  [[7, 9, 12, 12, 10, 8, 8, 9, 12, 15, 18, 21, 2...  "
      ]
     },
     "execution_count": 3,
     "metadata": {},
     "output_type": "execute_result"
    }
   ],
   "source": [
    "df = pd.read_json(\"data_IAD.json\")\n",
    "df"
   ]
  },
  {
   "cell_type": "code",
   "execution_count": 4,
   "metadata": {},
   "outputs": [],
   "source": [
    "p = df['pres'].values[0][0] * units.hPa\n",
    "t = df['tmpc'].values[0][0] * units.degC\n",
    "td = df['dwpt'].values[0][0] * units.degC\n",
    "dir = df['wdir'].values[0][0] * units.degrees\n",
    "spd = df['wspd'].values[0][0] * units.knots\n",
    "heights = df['hght'].values[0][0] * units.meter"
   ]
  },
  {
   "cell_type": "code",
   "execution_count": 11,
   "metadata": {},
   "outputs": [],
   "source": [
    "u, v = mpcalc.wind_components(df[\"wspd\"].values[0][0] * units.knot, df[\"wdir\"].values[0][0] * units.deg)"
   ]
  },
  {
   "cell_type": "markdown",
   "metadata": {},
   "source": [
    "## Quick function to get bulk shear at desired layer (meters) for JSON files\n"
   ]
  },
  {
   "cell_type": "code",
   "execution_count": 75,
   "metadata": {},
   "outputs": [],
   "source": [
    "def get_bulk_shear(sound_file,depth):\n",
    "    \"\"\"Get bulk shear for desired layer depth based on JSON sounding file\n",
    "    \n",
    "    Args\n",
    "    ----\n",
    "    sound_file : str\n",
    "        JSON sounding file name\n",
    "    \n",
    "    depth : int\n",
    "        layer depth desired in meters\n",
    "    \n",
    "    Returns\n",
    "    -------\n",
    "    Prints u, v, speed, and direction for bilk shear values\n",
    "    \n",
    "    u_bulk_shear : pint.quantity.build_quantity_class.<locals>.Quantity\n",
    "        u-component of layer bulk shear\n",
    "        \n",
    "    v_bulk_shear : pint.quantity.build_quantity_class.<locals>.Quantity\n",
    "        v-component of layer bulk shear\n",
    "        \n",
    "    bulk_shear_speed : pint.quantity.build_quantity_class.<locals>.Quantity\n",
    "        layer bulk shear wind speed\n",
    "        \n",
    "    bulk_shear_dir : pint.quantity.build_quantity_class.<locals>.Quantity\n",
    "        layer bulk shear wind direction\n",
    "        \n",
    "    \"\"\"\n",
    "    printmd(f\"\\n**Sounding Location: {sound_file}**\")\n",
    "    print(f\"Desired layer: {depth/1000}km\\n\"+\\\n",
    "         \"---------------------------------\")\n",
    "    \n",
    "    df = pd.read_json(sound_file)\n",
    "    p = df['pres'].values[0][0] * units.hPa\n",
    "    Z = df['hght'].values[0][0] * units.meter\n",
    "    \n",
    "    def replace_empty_str(col):\n",
    "        for i in range(len(df[col][0][0][:])):\n",
    "            if df[col][0][0][i] == '':\n",
    "                df[col][0][0][i] = 0\n",
    "        return df\n",
    "    \n",
    "    for i in df.columns:\n",
    "        replace_empty_str(i)\n",
    "        \n",
    "    u, v = mpcalc.wind_components(df[\"wspd\"].values[0][0] * units.knot, df[\"wdir\"].values[0][0] * units.deg)\n",
    "    u_bulk_shear,v_bulk_shear = mpcalc.bulk_shear(p,u,v,heights=Z,depth=depth * units.meter)\n",
    "    print(f\"u-bulk shear: {u_bulk_shear}\\nv-bulk shear: {v_bulk_shear}\")\n",
    "    \n",
    "    bulk_shear_speed = np.sqrt(u_bulk_shear**2 + v_bulk_shear**2)\n",
    "    bulk_shear_dir = mpcalc.wind_direction(u_bulk_shear,v_bulk_shear)\n",
    "    print(f\"bulk shear speed: {bulk_shear_speed}\\nbulk shear direction: {bulk_shear_dir}\")\n",
    "    \n",
    "    return u_bulk_shear, v_bulk_shear, bulk_shear_speed, bulk_shear_dir"
   ]
  },
  {
   "cell_type": "code",
   "execution_count": 322,
   "metadata": {},
   "outputs": [],
   "source": [
    "def get_layer(pressure, *args, heights=None, bottom=None, depth=100 * units.hPa,\n",
    "              interpolate=True):\n",
    "    r\"\"\"Return an atmospheric layer from upper air data with the requested bottom and depth.\n",
    "\n",
    "    This function will subset an upper air dataset to contain only the specified layer. The\n",
    "    bottom of the layer can be specified with a pressure or height above the surface\n",
    "    pressure. The bottom defaults to the surface pressure. The depth of the layer can be\n",
    "    specified in terms of pressure or height above the bottom of the layer. If the top and\n",
    "    bottom of the layer are not in the data, they are interpolated by default.\n",
    "\n",
    "    Parameters\n",
    "    ----------\n",
    "    pressure : array-like\n",
    "        Atmospheric pressure profile\n",
    "    args : array-like\n",
    "        Atmospheric variable(s) measured at the given pressures\n",
    "    heights: array-like, optional\n",
    "        Atmospheric heights corresponding to the given pressures. Defaults to using\n",
    "        heights calculated from ``p`` assuming a standard atmosphere [NOAA1976]_.\n",
    "    bottom : `pint.Quantity`, optional\n",
    "        The bottom of the layer as a pressure or height above the surface pressure. Defaults\n",
    "        to the highest pressure or lowest height given.\n",
    "    depth : `pint.Quantity`, optional\n",
    "        The thickness of the layer as a pressure or height above the bottom of the layer.\n",
    "        Defaults to 100 hPa.\n",
    "    interpolate : bool, optional\n",
    "        Interpolate the top and bottom points if they are not in the given data. Defaults\n",
    "        to True.\n",
    "\n",
    "    Returns\n",
    "    -------\n",
    "    `pint.Quantity, pint.Quantity`\n",
    "        The pressure and data variables of the layer\n",
    "\n",
    "    \"\"\"\n",
    "    # If we get the depth kwarg, but it's None, set it to the default as well\n",
    "    if depth is None:\n",
    "        depth = 100 * units.hPa\n",
    "\n",
    "    # Make sure pressure and datavars are the same length\n",
    "    for datavar in args:\n",
    "        if len(pressure) != len(datavar):\n",
    "            raise ValueError('Pressure and data variables must have the same length.')\n",
    "\n",
    "    # If the bottom is not specified, make it the surface pressure\n",
    "    if bottom is None:\n",
    "        bottom = np.nanmax(pressure.m) * pressure.units\n",
    "\n",
    "    bottom_pressure, bottom_height = _get_bound_pressure_height(pressure, bottom,\n",
    "                                                                heights=heights,\n",
    "                                                                interpolate=interpolate)\n",
    "\n",
    "    # Calculate the top if whatever units depth is in\n",
    "    if depth.dimensionality == {'[length]': -1.0, '[mass]': 1.0, '[time]': -2.0}:\n",
    "        top = bottom_pressure - depth\n",
    "    elif depth.dimensionality == {'[length]': 1}:\n",
    "        top = bottom_height + depth\n",
    "    else:\n",
    "        raise ValueError('Depth must be specified in units of length or pressure')\n",
    "\n",
    "    top_pressure, _ = _get_bound_pressure_height(pressure, top, heights=heights,\n",
    "                                                 interpolate=interpolate)\n",
    "\n",
    "    ret = []  # returned data variables in layer\n",
    "\n",
    "    # Ensure pressures are sorted in ascending order\n",
    "    sort_inds = np.argsort(pressure)\n",
    "    pressure = pressure[sort_inds]\n",
    "\n",
    "    # Mask based on top and bottom pressure\n",
    "    inds = (_less_or_close(pressure, bottom_pressure)\n",
    "            & _greater_or_close(pressure, top_pressure))\n",
    "    p_interp = pressure[inds]\n",
    "\n",
    "    # Interpolate pressures at bounds if necessary and sort\n",
    "    if interpolate:\n",
    "        # If we don't have the bottom or top requested, append them\n",
    "        if not np.any(np.isclose(top_pressure, p_interp)):\n",
    "            p_interp = np.sort(np.append(p_interp.m, top_pressure.m)) * pressure.units\n",
    "        if not np.any(np.isclose(bottom_pressure, p_interp)):\n",
    "            p_interp = np.sort(np.append(p_interp.m, bottom_pressure.m)) * pressure.units\n",
    "\n",
    "    ret.append(p_interp[::-1])\n",
    "\n",
    "    for datavar in args:\n",
    "        # Ensure that things are sorted in ascending order\n",
    "        datavar = datavar[sort_inds]\n",
    "\n",
    "        if interpolate:\n",
    "            # Interpolate for the possibly missing bottom/top values\n",
    "            datavar_interp = log_interpolate_1d(p_interp, pressure, datavar)\n",
    "            datavar = datavar_interp\n",
    "        else:\n",
    "            datavar = datavar[inds]\n",
    "\n",
    "        ret.append(datavar[::-1])\n",
    "    return ret"
   ]
  },
  {
   "cell_type": "code",
   "execution_count": 7,
   "metadata": {},
   "outputs": [],
   "source": [
    "from metpy import constants as mpconsts\n",
    "\n",
    "t0 = 288. * units.kelvin\n",
    "p0 = 1013.25 * units.hPa\n",
    "\n",
    "def height_to_pressure_std(height):\n",
    "    r\"\"\"Convert height data to pressures using the U.S. standard atmosphere [NOAA1976]_.\n",
    "\n",
    "    The implementation inverts the formula outlined in [Hobbs1977]_ pg.60-61.\n",
    "\n",
    "    Parameters\n",
    "    ----------\n",
    "    height : `pint.Quantity`\n",
    "        Atmospheric height\n",
    "\n",
    "    Returns\n",
    "    -------\n",
    "    `pint.Quantity`\n",
    "        The corresponding pressure value(s)\n",
    "\n",
    "    Notes\n",
    "    -----\n",
    "    .. math:: p = p_0 e^{\\frac{g}{R \\Gamma} \\text{ln}(1-\\frac{Z \\Gamma}{T_0})}\n",
    "\n",
    "    \"\"\"\n",
    "    \n",
    "    gamma = 6.5 * units('K/km')\n",
    "    return p0 * (1 - (gamma / t0) * height) ** (mpconsts.g / (mpconsts.Rd * gamma))\n",
    "\n",
    "def pressure_to_height_std(pressure):\n",
    "    r\"\"\"Convert pressure data to heights using the U.S. standard atmosphere [NOAA1976]_.\n",
    "\n",
    "    The implementation uses the formula outlined in [Hobbs1977]_ pg.60-61.\n",
    "\n",
    "    Parameters\n",
    "    ----------\n",
    "    pressure : `pint.Quantity`\n",
    "        Atmospheric pressure\n",
    "\n",
    "    Returns\n",
    "    -------\n",
    "    `pint.Quantity`\n",
    "        The corresponding height value(s)\n",
    "\n",
    "    Notes\n",
    "    -----\n",
    "    .. math:: Z = \\frac{T_0}{\\Gamma}[1-\\frac{p}{p_0}^\\frac{R\\Gamma}{g}]\n",
    "\n",
    "    \"\"\"\n",
    "    gamma = 6.5 * units('K/km')\n",
    "    return (t0 / gamma) * (1 - (pressure / p0).to('dimensionless')**(\n",
    "        mpconsts.Rd * gamma / mpconsts.g))\n"
   ]
  },
  {
   "cell_type": "code",
   "execution_count": 9,
   "metadata": {},
   "outputs": [
    {
     "data": {
      "text/plain": [
       "(array([487]) <Unit('hectopascal')>, 6000 <Unit('meter')>)"
      ]
     },
     "execution_count": 9,
     "metadata": {},
     "output_type": "execute_result"
    }
   ],
   "source": [
    "_get_bound_pressure_height(p, 6000*units.m, heights=heights, interpolate=True)"
   ]
  },
  {
   "cell_type": "code",
   "execution_count": 76,
   "metadata": {
    "scrolled": false
   },
   "outputs": [
    {
     "data": {
      "text/markdown": [
       "**Top of 6km layer (from get_layer)**"
      ],
      "text/plain": [
       "<IPython.core.display.Markdown object>"
      ]
     },
     "metadata": {},
     "output_type": "display_data"
    },
    {
     "name": "stdout",
     "output_type": "stream",
     "text": [
      "==================================\n",
      "Pressure: 486.0 hectopascal\n",
      "Height (from sounding): 6083.279983975857 meter\n",
      "Height (from std atm): 5.780369569654552 kilometer\n",
      "\n"
     ]
    },
    {
     "data": {
      "text/markdown": [
       "**Expected top of 6km layer**"
      ],
      "text/plain": [
       "<IPython.core.display.Markdown object>"
      ]
     },
     "metadata": {},
     "output_type": "display_data"
    },
    {
     "name": "stdout",
     "output_type": "stream",
     "text": [
      "==========================\n",
      "Pressure bounds from _get_bound_pressure_height: 468.6454879416241 hectopascal\n",
      "Height bounds from _get_bound_pressure_height: 6046 meter\n",
      "Base Height (from std atm): 46 meter\n",
      "6km Pressure (from std atm): 468.6454879416241 hectopascal\n",
      "6km-Pressure Height (from std atm): 6.046000000000002 kilometer\n",
      "\n"
     ]
    },
    {
     "data": {
      "text/markdown": [
       "**Bottom of 6km layer**"
      ],
      "text/plain": [
       "<IPython.core.display.Markdown object>"
      ]
     },
     "metadata": {},
     "output_type": "display_data"
    },
    {
     "name": "stdout",
     "output_type": "stream",
     "text": [
      "=================\n",
      "Pressure: 995.0 hectopascal\n",
      "Heights (from sounding): 46.0 meter\n",
      "Heights (from std atm): 0.15295996804345655 kilometer\n",
      "\n",
      "U-Shear component: 21.819830420597967 knot\n",
      "V-Shear component: -27.258009986877884 knot\n",
      "Bulk Shear Speed: 34.91567138160724 knot\n"
     ]
    },
    {
     "data": {
      "text/markdown": [
       "\n",
       "**Sounding Location: data_IAD.json**"
      ],
      "text/plain": [
       "<IPython.core.display.Markdown object>"
      ]
     },
     "metadata": {},
     "output_type": "display_data"
    },
    {
     "name": "stdout",
     "output_type": "stream",
     "text": [
      "Desired layer: 6.0km\n",
      "---------------------------------\n",
      "u-bulk shear: 21.819830420597967 knot\n",
      "v-bulk shear: -27.258009986877884 knot\n",
      "bulk shear speed: 34.91567138160724 knot\n",
      "bulk shear direction: 321.32299241704106 degree\n"
     ]
    }
   ],
   "source": [
    "p_layer, t_layer, u_layer, v_layer, dir_layer, spd_layer, hghts_layer = get_layer(\n",
    "    p, t, u, v, dir, spd, heights, heights=heights, depth=6000*units.meter)\n",
    "\n",
    "printmd(\"**Top of 6km layer (from get_layer)**\")\n",
    "print(\"==================================\")\n",
    "print(\"Pressure: \" + str(p_layer[-1]))\n",
    "print(\"Height (from sounding): \" + str(hghts_layer[-1]))\n",
    "print(\"Height (from std atm): \" + str(pressure_to_height_std(p_layer[-1])))\n",
    "print()\n",
    "\n",
    "printmd(\"**Expected top of 6km layer**\")\n",
    "print(\"==========================\")\n",
    "#baseHght = pressure_to_height_std(p[0])\n",
    "baseHght = heights[0]\n",
    "pressure_bound, height_bound = _get_bound_pressure_height(p, 6000*units.meter+baseHght)\n",
    "stdPres = height_to_pressure_std(6000*units.meter+baseHght)\n",
    "stdHght = pressure_to_height_std(stdPres)\n",
    "print(\"Pressure bounds from _get_bound_pressure_height: \" + str(pressure_bound))\n",
    "print(\"Height bounds from _get_bound_pressure_height: \" + str(height_bound))\n",
    "print(\"Base Height (from std atm): \" + str(baseHght))\n",
    "print(\"6km Pressure (from std atm): \" + str(stdPres))\n",
    "print(\"6km-Pressure Height (from std atm): \" + str(stdHght))\n",
    "print()\n",
    "\n",
    "printmd(\"**Bottom of 6km layer**\")\n",
    "print(\"=================\")\n",
    "print(\"Pressure: \" + str(p_layer[0]))\n",
    "print(\"Heights (from sounding): \" + str(hghts_layer[0]))\n",
    "print(\"Heights (from std atm): \" + str(pressure_to_height_std(p_layer[0])))\n",
    "print()\n",
    "\n",
    "ushr = u_layer[-1] - u_layer[0]\n",
    "vshr = v_layer[-1] - v_layer[0]\n",
    "\n",
    "print(\"U-Shear component: \" + str(ushr))\n",
    "print(\"V-Shear component: \" + str(vshr))\n",
    "print(\"Bulk Shear Speed: \" + str(np.sqrt(ushr**2 + vshr**2)))\n",
    "\n",
    "u_bulk_shear, v_bulk_shear, bulk_shear_speed, bulk_shear_dir = get_bulk_shear(\"data_IAD.json\", 6000)"
   ]
  },
  {
   "cell_type": "code",
   "execution_count": 53,
   "metadata": {},
   "outputs": [],
   "source": [
    "from IPython.display import Markdown, display\n",
    "def printmd(string):\n",
    "    display(Markdown(string))"
   ]
  },
  {
   "cell_type": "code",
   "execution_count": 288,
   "metadata": {},
   "outputs": [],
   "source": [
    "def calc_BRN(pressure, u, v, temp, cape, heights=None):\n",
    "    r\"\"\"Calculate Bulk Richardson Number and BRN shear.\n",
    "\n",
    "    Parameters\n",
    "    ----------\n",
    "    pressure : `pint.Quantity`\n",
    "                Atmospheric pressure profile\n",
    "    u        : `pint.Quantity`\n",
    "                U-component of wind.\n",
    "    v        : `pint.Quantity`\n",
    "                V-component of wind.\n",
    "    temp     : `pint.Quantity`\n",
    "                Atmospheric temperature profile (can be either temperature or virtual temperature)\n",
    "    cape     : `pint.Quantity`\n",
    "                CAPE value to use as the numerator of the BRN calculation.\n",
    "    heights  : `pint.Quantity`, optional\n",
    "                Heights in meters from sounding (not AGL)\n",
    "\n",
    "    Returns\n",
    "    -------\n",
    "    brn     : `pint.Quantity`\n",
    "               Bulk Richadson Number\n",
    "    brn_shr : `pint.Quantity`\n",
    "               Bulk Richardson Shear (the denominator of the BRN)\n",
    "\n",
    "    \"\"\"\n",
    "    \n",
    "    from metpy import constants as mpconsts\n",
    "    \n",
    "    baseZ = heights[0]\n",
    "    sumZ = -baseZ\n",
    "    rho6km = 0\n",
    "    u6km = 0\n",
    "    v6km = 0\n",
    "    u500 = 0\n",
    "    v500 = 0\n",
    "\n",
    "    for i, p in enumerate(pressure):\n",
    "        rho = (p.to('Pa')/(temp[i].to('K')*mpconsts.Rd)).to('kg / m^3')\n",
    "        sumZ += heights[i]\n",
    "        u_weighted = u[i]*rho\n",
    "        v_weighted = v[i]*rho\n",
    "        u_weighted = u_weighted.magnitude\n",
    "        v_weighted = v_weighted.magnitude\n",
    "        \n",
    "        if (sumZ >= 6000 * units.meter):\n",
    "            layerZ=heights[i] - heights[i-1]\n",
    "            fraction = (6000 * units.meter - layerZ)/sumZ\n",
    "            fraction = fraction.to('dimensionless')\n",
    "            u_frac = ((u_weighted - uprev) * fraction) + uprev\n",
    "            v_frac = ((v_weighted - vprev) * fraction) + vprev\n",
    "\n",
    "            rho6km += rho\n",
    "            u_weighted = u_frac*rho\n",
    "            v_weighted = v_frac*rho\n",
    "            u_weighted = u_weighted.magnitude\n",
    "            v_weighted = v_weighted.magnitude\n",
    "            u6km += u_weighted\n",
    "            v6km += v_weighted\n",
    "            \n",
    "            break\n",
    "\n",
    "        rho6km += rho\n",
    "        u6km += u_weighted\n",
    "        v6km += v_weighted\n",
    "\n",
    "        if (sumZ < 500 * units.meter):\n",
    "            u500 += u_weighted\n",
    "            v500 += v_weighted\n",
    "            divisor = i+1\n",
    "\n",
    "        uprev = u_weighted\n",
    "        vprev = v_weighted\n",
    "\n",
    "    u6kmAvg = u6km/(i+1)\n",
    "    v6kmAvg = v6km/(i+1)\n",
    "    print(u6kmAvg, v6kmAvg)\n",
    "    u500Avg = u500/divisor\n",
    "    v500Avg = v500/divisor\n",
    "    print(u500Avg, v500Avg)\n",
    "    uDiff = (u6kmAvg-u500Avg)\n",
    "    vDiff = (v6kmAvg-v500Avg)\n",
    "    print(uDiff, vDiff)\n",
    "    mag = np.sqrt(uDiff**2+vDiff**2)\n",
    "    brnu = (mag**2)*.5\n",
    "    brn = cape/brnu\n",
    "    brn = brn.magnitude\n",
    "\n",
    "    return brn, brnu"
   ]
  },
  {
   "cell_type": "code",
   "execution_count": 320,
   "metadata": {},
   "outputs": [],
   "source": [
    "def calc_BRN_2(pressure, u, v, temp, cape, heights=None):\n",
    "    r\"\"\"Calculate Bulk Richardson Number and BRN shear.\n",
    "\n",
    "    Parameters\n",
    "    ----------\n",
    "    pressure : `pint.Quantity`\n",
    "                Atmospheric pressure profile\n",
    "    u        : `pint.Quantity`\n",
    "                U-component of wind.\n",
    "    v        : `pint.Quantity`\n",
    "                V-component of wind.\n",
    "    temp     : `pint.Quantity`\n",
    "                Atmospheric temperature profile (can be either temperature or virtual temperature)\n",
    "    cape     : `pint.Quantity`\n",
    "                CAPE value to use as the numerator of the BRN calculation.\n",
    "    heights  : `pint.Quantity`, optional\n",
    "                Heights in meters from sounding (not AGL)\n",
    "\n",
    "    Returns\n",
    "    -------\n",
    "    brn     : `pint.Quantity`\n",
    "               Bulk Richadson Number\n",
    "    brn_shr : `pint.Quantity`\n",
    "               Bulk Richardson Shear (the denominator of the BRN)\n",
    "\n",
    "    \"\"\"\n",
    "    \n",
    "    from metpy import constants as mpconsts\n",
    "    \n",
    "    baseZ = heights[0]\n",
    "    sumZ = -baseZ\n",
    "    rho6km = 0\n",
    "    u6km = 0\n",
    "    v6km = 0\n",
    "    u500 = 0\n",
    "    v500 = 0\n",
    "\n",
    "    rho = (pressure[0].to('Pa')/(temp[0].to('K')*mpconsts.Rd)).to('kg / m^3')\n",
    "    u_weighted = u[0]*rho\n",
    "    v_weighted = v[0]*rho\n",
    "    u_weighted = u_weighted.magnitude\n",
    "    v_weighted = v_weighted.magnitude\n",
    "    ubase_weighted = u_weighted\n",
    "    vbase_weighted = v_weighted\n",
    "\n",
    "    for i, p in enumerate(pressure):\n",
    "        rho = (p.to('Pa')/(temp[i].to('K')*mpconsts.Rd)).to('kg / m^3')\n",
    "        sumZ += heights[i]\n",
    "        u_weighted = u[i]*rho\n",
    "        v_weighted = v[i]*rho\n",
    "        u_weighted = u_weighted.magnitude\n",
    "        v_weighted = v_weighted.magnitude\n",
    "        \n",
    "        if (sumZ >= 6000 * units.meter):\n",
    "            layerZ=heights[i] - heights[i-1]\n",
    "            fraction = (6000 * units.meter - layerZ)/sumZ\n",
    "            fraction = fraction.to('dimensionless')\n",
    "            u_frac = ((u_weighted - uprev) * fraction) + uprev\n",
    "            v_frac = ((v_weighted - vprev) * fraction) + vprev\n",
    "\n",
    "            u_weighted = u_frac*rho\n",
    "            v_weighted = v_frac*rho\n",
    "            u_weighted = u_weighted.magnitude\n",
    "            v_weighted = v_weighted.magnitude\n",
    "            u6km += u_weighted\n",
    "            v6km += v_weighted\n",
    "            \n",
    "            break\n",
    "\n",
    "        if (sumZ < 500 * units.meter):\n",
    "            u500 += u_weighted\n",
    "            v500 += v_weighted\n",
    "            divisor = i+1\n",
    "\n",
    "        uprev = u_weighted\n",
    "        vprev = v_weighted\n",
    "\n",
    "    u6kmAvg = u6km/(i+1)\n",
    "    v6kmAvg = v6km/(i+1)\n",
    "    print(u6kmAvg, v6kmAvg)\n",
    "    u500Avg = u500/divisor\n",
    "    v500Avg = v500/divisor\n",
    "    print(u500Avg, v500Avg)\n",
    "    ushr = (u6kmAvg-u500Avg)\n",
    "    vshr = (v6kmAvg-v500Avg)\n",
    "    print(ushr, vshr)\n",
    "    mag = np.sqrt(ushr**2+vshr**2)\n",
    "    print(mag)\n",
    "#    brnu = (mag)*.5\n",
    "    brnu = (mag**2)*.5\n",
    "    brn = cape/brnu\n",
    "    brn = brn.magnitude\n",
    "\n",
    "    return brn, brnu"
   ]
  },
  {
   "cell_type": "code",
   "execution_count": 321,
   "metadata": {
    "scrolled": false
   },
   "outputs": [
    {
     "name": "stdout",
     "output_type": "stream",
     "text": [
      "1.3013121276200768 -0.4485221039445009\n",
      "5.181513773810572 8.974645116357859\n",
      "-3.8802016461904953 -9.42316722030236\n",
      "10.190782368242408\n"
     ]
    },
    {
     "data": {
      "text/plain": [
       "(97.54261433169052, 51.926022638440166)"
      ]
     },
     "execution_count": 321,
     "metadata": {},
     "output_type": "execute_result"
    }
   ],
   "source": [
    "calc_BRN_2(p,u,v,t,5065 * units('J/kg'),heights=heights)"
   ]
  },
  {
   "cell_type": "code",
   "execution_count": 358,
   "metadata": {},
   "outputs": [],
   "source": [
    "def calc_BRN_3(pressure, u, v, cape, heights=None):\n",
    "    r\"\"\"Calculate Bulk Richardson Number and BRN shear.\n",
    "\n",
    "    Parameters\n",
    "    ----------\n",
    "    pressure : `pint.Quantity`\n",
    "                Atmospheric pressure profile\n",
    "    u        : `pint.Quantity`\n",
    "                U-component of wind.\n",
    "    v        : `pint.Quantity`\n",
    "                V-component of wind.\n",
    "    cape     : `pint.Quantity`\n",
    "                CAPE value to use as the numerator of the BRN calculation.\n",
    "    heights  : `pint.Quantity`, optional\n",
    "                Heights in meters from sounding (not AGL)\n",
    "\n",
    "    Returns\n",
    "    -------\n",
    "    brn     : `pint.Quantity`\n",
    "               Bulk Richadson Number\n",
    "    brn_shr : `pint.Quantity`\n",
    "               Bulk Richardson Shear (the denominator of the BRN)\n",
    "\n",
    "    \"\"\"\n",
    "\n",
    "    p_layer500, u_layer500, v_layer500 = get_layer(p, u, v, heights=None, depth=500*units.meter)\n",
    "    avgU500 = sum(u_layer500 * p_layer500) / sum(p_layer500)\n",
    "    avgV500 = sum(v_layer500 * p_layer500) / sum(p_layer500)\n",
    "    print(avgU500, avgV500)\n",
    "    \n",
    "    p_layer6km, u_layer6km, v_layer6km = get_layer(p, u, v, heights=None, depth=6000*units.meter)\n",
    "    avgU6km = sum(u_layer6km * p_layer6km) / sum(p_layer6km)\n",
    "    avgV6km = sum(v_layer6km * p_layer6km) / sum(p_layer6km)\n",
    "    print(avgU6km, avgV6km)\n",
    "\n",
    "    ushr = avgU6km-avgU500\n",
    "    vshr = avgV6km-avgV500\n",
    "    print(ushr, vshr)\n",
    "    \n",
    "    mag = np.sqrt(ushr**2+vshr**2)\n",
    "    print(mag)\n",
    "    \n",
    "    brnu = (mag**2)*.5\n",
    "    brn = cape/brnu\n",
    "    brn = brn.magnitude\n",
    "\n",
    "    return brn, brnu"
   ]
  },
  {
   "cell_type": "code",
   "execution_count": 359,
   "metadata": {},
   "outputs": [
    {
     "name": "stdout",
     "output_type": "stream",
     "text": [
      "5.170345251521428 knot 8.897935028672673 knot\n",
      "16.007321141495968 knot -5.595451721653928 knot\n",
      "10.83697588997454 knot -14.493386750326602 knot\n",
      "18.096914265543507 knot\n"
     ]
    },
    {
     "data": {
      "text/plain": [
       "(559.7639382802129, 9.048457132771754 <Unit('knot')>)"
      ]
     },
     "execution_count": 359,
     "metadata": {},
     "output_type": "execute_result"
    }
   ],
   "source": [
    "calc_BRN_3(p,u,v,5065 * units('J/kg'),heights=heights)"
   ]
  },
  {
   "cell_type": "code",
   "execution_count": null,
   "metadata": {},
   "outputs": [],
   "source": []
  }
 ],
 "metadata": {
  "kernelspec": {
   "display_name": "Python 3",
   "language": "python",
   "name": "python3"
  },
  "language_info": {
   "codemirror_mode": {
    "name": "ipython",
    "version": 3
   },
   "file_extension": ".py",
   "mimetype": "text/x-python",
   "name": "python",
   "nbconvert_exporter": "python",
   "pygments_lexer": "ipython3",
   "version": "3.7.4"
  }
 },
 "nbformat": 4,
 "nbformat_minor": 2
}
